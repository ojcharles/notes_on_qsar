{
 "cells": [
  {
   "attachments": {},
   "cell_type": "markdown",
   "metadata": {},
   "source": [
    "# 2 - Molecular encoding\n",
    "\n",
    "The RDKit descriptor is only one of several options. In this notebook we will look at various other descriptors available via the deepchem package (as its a nice API), and compare their predictive performance on this LogP problem. Then we move to a more challenging task, predicting biological activity against HIV1.\n",
    "\n",
    "Note the term fingerprint, descriptor, embedding are used mostly interchangeably in the literature, and I may below too."
   ]
  },
  {
   "attachments": {},
   "cell_type": "markdown",
   "metadata": {},
   "source": [
    "### Import Libraries"
   ]
  },
  {
   "cell_type": "code",
   "execution_count": 1,
   "metadata": {},
   "outputs": [
    {
     "name": "stderr",
     "output_type": "stream",
     "text": [
      "2023-06-24 10:47:27.036954: I tensorflow/tsl/cuda/cudart_stub.cc:28] Could not find cuda drivers on your machine, GPU will not be used.\n",
      "2023-06-24 10:47:27.944578: I tensorflow/tsl/cuda/cudart_stub.cc:28] Could not find cuda drivers on your machine, GPU will not be used.\n",
      "2023-06-24 10:47:27.954242: I tensorflow/core/platform/cpu_feature_guard.cc:182] This TensorFlow binary is optimized to use available CPU instructions in performance-critical operations.\n",
      "To enable the following instructions: AVX2 FMA, in other operations, rebuild TensorFlow with the appropriate compiler flags.\n",
      "2023-06-24 10:47:31.449237: W tensorflow/compiler/tf2tensorrt/utils/py_utils.cc:38] TF-TRT Warning: Could not find TensorRT\n",
      "Skipped loading some PyTorch models, missing a dependency. No module named 'torch'\n",
      "Skipped loading modules with pytorch-geometric dependency, missing a dependency. No module named 'torch'\n",
      "Skipped loading modules with pytorch-lightning dependency, missing a dependency. No module named 'torch'\n",
      "Skipped loading some Jax models, missing a dependency. jax requires jaxlib to be installed. See https://github.com/google/jax#installation for installation instructions.\n"
     ]
    }
   ],
   "source": [
    "# general\n",
    "import os\n",
    "from multiprocessing import Pool\n",
    "import random\n",
    "\n",
    "# data\n",
    "import pandas as pd\n",
    "import numpy as np\n",
    "import matplotlib.pyplot as plt\n",
    "\n",
    "# cheminformatics\n",
    "from rdkit import Chem, DataStructs\n",
    "from rdkit.Chem import AllChem\n",
    "import deepchem as dc"
   ]
  },
  {
   "attachments": {},
   "cell_type": "markdown",
   "metadata": {},
   "source": [
    "### Overview of some commonly used descriptors\n",
    "\n",
    "- rdkit: various cheap to calculate statistics and models. Such as number of H-bond acceptor/donors, molweight, SLogP\n",
    "\n",
    "- extended connectivity fingerprint (ecfp): This appraoch takes the set of molecules, and identifies the set of distinct functional groups containing n atoms (not including H or ions). i.e. if n is 3 then C=O-OH is legitimate, if n = 4 then CC=O-OH is a legitimate group. Each distinct group up to the mth most prevalent is then identified in molecules, and each molecule given a binary vector of length m, where m is 1 if group x is present, of 0 if abscent. See the image below.\n",
    "\n",
    "- MACCS: These are a set of precomuted key functional groups. Think of it as a hardcoded ecfp.\n",
    "\n",
    "- mordred: Modred can be thought of as a richly extended variant of the RDKit descriptors containing many more descriptor implementations from various publications. \n",
    "\n",
    "\n",
    "--- Representation of the ecfp and MACCS approach to fingerptinting. \n",
    "![substructure fingerptinting](lib/imgs/3_substr_fingerprint.png)\n",
    "\n",
    "ref: https://chem.libretexts.org/Courses/Intercollegiate_Courses/Cheminformatics/06%3A_Molecular_Similarity/6.01%3A_Molecular_Descriptors"
   ]
  },
  {
   "cell_type": "code",
   "execution_count": 2,
   "metadata": {},
   "outputs": [],
   "source": [
    "# define helper functions to help calculate vectors in parallel\n",
    "def smiles_2_rdkitDescr(smiles):\n",
    "    featurizer = dc.feat.RDKitDescriptors()\n",
    "    return(featurizer(smiles).flatten())\n",
    "\n",
    "def smiles_2_ecfp3(smiles):\n",
    "    mol = Chem.MolFromSmiles(smiles)\n",
    "    fp = AllChem.GetMorganFingerprintAsBitVect(mol,3,nBits=1024,useFeatures=True)\n",
    "    arr = np.zeros((1,), dtype=np.int8)\n",
    "    DataStructs.ConvertToNumpyArray(fp, arr)\n",
    "    return(arr)\n",
    "\n",
    "def smiles_2_ecfp4(smiles):\n",
    "    mol = Chem.MolFromSmiles(smiles)\n",
    "    fp = AllChem.GetMorganFingerprintAsBitVect(mol,4,nBits=1024,useFeatures=True)\n",
    "    arr = np.zeros((1,), dtype=np.int8)\n",
    "    DataStructs.ConvertToNumpyArray(fp, arr)\n",
    "    return(arr)\n",
    "\n",
    "def smiles_2_MACCS(smiles):\n",
    "    featurizer = dc.feat.MACCSKeysFingerprint()\n",
    "    return(featurizer(smiles).flatten())\n",
    "\n",
    "def smiles_2_mordredDescr(smiles):\n",
    "    featurizer = dc.feat.MordredDescriptors(ignore_3D=False)\n",
    "    return(featurizer(smiles).flatten())  "
   ]
  },
  {
   "cell_type": "code",
   "execution_count": 3,
   "metadata": {},
   "outputs": [],
   "source": [
    "# Now we generate the vector of vectors for each type of descriptor\n",
    "df = pd.read_table('lib/data/1_logp.tsv')\n",
    "y = df['Standard Value']\n",
    "\n",
    "# rdkit descriptors - 208 total\n",
    "with Pool(processes=os.cpu_count()) as p:\n",
    "    x_rdkit = np.stack(p.map(smiles_2_rdkitDescr, df.Smiles.values))\n",
    "\n",
    "# Extended fingerprint\n",
    "with Pool(processes=os.cpu_count()) as p:\n",
    "    x_ecfp3 = np.stack(p.map(smiles_2_ecfp3, df.Smiles.values))\n",
    "\n",
    "with Pool(processes=os.cpu_count()) as p:\n",
    "    x_ecfp4 = np.stack(p.map(smiles_2_ecfp4, df.Smiles.values))\n",
    "\n",
    "# MACCS\n",
    "with Pool(processes=os.cpu_count()) as p:\n",
    "    x_MACCS = np.stack(p.map(smiles_2_MACCS, df.Smiles.values))\n",
    "\n",
    "# Mordred - save this as its a long compute\n",
    "with Pool(processes=os.cpu_count()) as p:\n",
    "    x_mordred = np.stack(p.map(smiles_2_mordredDescr, df.Smiles.values))\n"
   ]
  },
  {
   "attachments": {},
   "cell_type": "markdown",
   "metadata": {},
   "source": [
    "So now we have a set of vectors per molecule, which is best? Well we need to write some code to test this.\n",
    "For each descriptor let's build the same RF based model we did in notebook 1 with the same data, then we can compare like for like with only 1 independant variable."
   ]
  },
  {
   "cell_type": "code",
   "execution_count": 4,
   "metadata": {},
   "outputs": [
    {
     "name": "stdout",
     "output_type": "stream",
     "text": [
      "feature - algorithm - RMSE - r2\n",
      "x_rdkit RF 0.621017 0.776011\n",
      "x_ecfp3 RF 1.442533 0.479705\n",
      "x_ecfp4 RF 1.437682 0.481454\n",
      "x_MACCS RF 1.08545 0.608498\n",
      "x_mordred RF 0.598566 0.784108\n"
     ]
    }
   ],
   "source": [
    "from sklearn.ensemble import RandomForestRegressor\n",
    "from sklearn.model_selection import train_test_split\n",
    "from sklearn.metrics import r2_score, mean_squared_error\n",
    "\n",
    "# define a dict of ML algorithms\n",
    "dict_algorithm = {\n",
    "    \"RF\": RandomForestRegressor()\n",
    "}\n",
    "\n",
    "# define a dict of molvectors\n",
    "dict_feats = {\n",
    "    'x_rdkit': x_rdkit,\n",
    "    'x_ecfp3': x_ecfp3,\n",
    "    'x_ecfp4': x_ecfp4,\n",
    "    'x_MACCS': x_MACCS,\n",
    "    'x_mordred': x_mordred,\n",
    "}\n",
    "\n",
    "print('feature - algorithm - RMSE - r2')\n",
    "\n",
    "# for each molvector type\n",
    "for f, f_df in dict_feats.items():\n",
    "    x_train, x_test, y_train, y_test = train_test_split(\n",
    "        f_df,\n",
    "        y,\n",
    "        test_size=0.3,\n",
    "        random_state=99)\n",
    "    # for each algorithm\n",
    "    for m, model_instantiation in dict_algorithm.items():\n",
    "        model_instantiation.fit(x_train, y_train)\n",
    "        test_preds = model_instantiation.predict(x_test)\n",
    "        col1 = f\n",
    "        col2 = m\n",
    "\n",
    "        # predictive metrics\n",
    "        col3 = mean_squared_error(y_test, test_preds)\n",
    "        col4 = r2_score(y_test, test_preds)\n",
    "        \n",
    "        newrow = pd.DataFrame( [[col1, col2, col3, col4]] ,columns=['feat', 'model', 'RMSE', 'r2']) \n",
    "        print(newrow.to_string(index=False, header=False))"
   ]
  },
  {
   "attachments": {},
   "cell_type": "markdown",
   "metadata": {},
   "source": [
    "### stop and think\n",
    "\n",
    "hmm so it looks like the RDKit descriptors are still good, but the modred descriptors are now optimal, makes sense it's essentially a richly extended set. A problem with this approach is that any given split may randomly be a simpler task for x descriptor. This is especially true of smaller datasets like ours. A  more rigorous test would be to run several test:train splits for each feature type and keep track of the mean perormance metrics. This is a good defailt approach to use.\n",
    "\n",
    "\n",
    "Below is the same code as above, but now the performance metrics are the mean from 10 random draws."
   ]
  },
  {
   "cell_type": "code",
   "execution_count": 5,
   "metadata": {},
   "outputs": [
    {
     "name": "stdout",
     "output_type": "stream",
     "text": [
      "feature - algorithm - RMSE - r2\n"
     ]
    },
    {
     "name": "stdout",
     "output_type": "stream",
     "text": [
      "x_rdkit RF 0.318777 0.834437\n",
      "x_ecfp3 RF 1.089937 0.363234\n",
      "x_ecfp4 RF 1.002855 0.50083\n",
      "x_MACCS RF 0.536519 0.7304\n",
      "x_mordred RF 0.395375 0.794029\n"
     ]
    }
   ],
   "source": [
    "from sklearn.ensemble import RandomForestRegressor\n",
    "from sklearn.model_selection import train_test_split\n",
    "from sklearn.metrics import r2_score, mean_squared_error\n",
    "import random\n",
    "\n",
    "# define a dict of ML algorithms\n",
    "dict_algorithm = {\n",
    "    \"RF\": RandomForestRegressor()\n",
    "}\n",
    "\n",
    "# define a dict of molvectors\n",
    "dict_feats = {\n",
    "    'x_rdkit': x_rdkit,\n",
    "    'x_ecfp3': x_ecfp3,\n",
    "    'x_ecfp4': x_ecfp4,\n",
    "    'x_MACCS': x_MACCS,\n",
    "    'x_mordred': x_mordred,\n",
    "}\n",
    "\n",
    "print('feature - algorithm - RMSE - r2')\n",
    "\n",
    "resample_num = 10\n",
    "\n",
    "# for each molvector type\n",
    "for f, f_df in dict_feats.items():\n",
    "\n",
    "    # for each algorithm\n",
    "    for m, model_instantiation in dict_algorithm.items():\n",
    "\n",
    "        #traack metrics\n",
    "        rmse_total = 0\n",
    "        r2_total = 0\n",
    "\n",
    "        for rep in range(resample_num):\n",
    "            # each resmaple produces a novel dataset and model\n",
    "            x_train, x_test, y_train, y_test = train_test_split(\n",
    "                f_df,\n",
    "                y,\n",
    "                test_size=0.3,\n",
    "                random_state=random.randint(1,999))\n",
    "            model_instantiation.fit(x_train, y_train)\n",
    "\n",
    "            # tot up metrics\n",
    "            test_preds = model_instantiation.predict(x_test)\n",
    "            col1 = f\n",
    "            col2 = m\n",
    "            rmse_total = rmse_total + mean_squared_error(y_test, test_preds)\n",
    "            r2_total = r2_total + r2_score(y_test, test_preds)\n",
    "        \n",
    "        # get mean summary stats\n",
    "        mean_rmse = rmse_total / resample_num\n",
    "        mean_r2 = r2_total / resample_num\n",
    "\n",
    "        newrow = pd.DataFrame( [[col1, col2, mean_rmse, mean_r2]] ,columns=['feat', 'model', 'RMSE', 'r2']) \n",
    "        print(newrow.to_string(index=False, header=False))"
   ]
  },
  {
   "attachments": {},
   "cell_type": "markdown",
   "metadata": {},
   "source": [
    "okay so rdkit is still very good, actually the top... that's not what we expect maybe this example is too simple and as we mentioned a high proportion of drkits descriptors are dedicated to LogP measures.\n",
    "\n",
    "What happens if we move from this toy LogP example to something biologically complex like predicting inhibition of HIV1 protease? Here the inclusion of several LogP predictors within the descript might not be such an advantage....  \n",
    "\n",
    "The attached data file includes all inhibitor data against the HIV1 protease, which we found by saerching via the target option insde CHEMBLS website. The values are all Ki, which is like an IC50 but is normalised for the protein concentraion in the assay, which often varies across labs. Out of the 3700 molecules only 200 will be used here, where each molecule has a Ki in nM range.\n",
    "\n",
    "This is no longer a toy example but a real world situation:"
   ]
  },
  {
   "cell_type": "code",
   "execution_count": 6,
   "metadata": {},
   "outputs": [
    {
     "data": {
      "text/html": [
       "<div>\n",
       "<style scoped>\n",
       "    .dataframe tbody tr th:only-of-type {\n",
       "        vertical-align: middle;\n",
       "    }\n",
       "\n",
       "    .dataframe tbody tr th {\n",
       "        vertical-align: top;\n",
       "    }\n",
       "\n",
       "    .dataframe thead th {\n",
       "        text-align: right;\n",
       "    }\n",
       "</style>\n",
       "<table border=\"1\" class=\"dataframe\">\n",
       "  <thead>\n",
       "    <tr style=\"text-align: right;\">\n",
       "      <th></th>\n",
       "      <th>smiles</th>\n",
       "      <th>pKi</th>\n",
       "    </tr>\n",
       "  </thead>\n",
       "  <tbody>\n",
       "    <tr>\n",
       "      <th>0</th>\n",
       "      <td>C#CCN1C(=O)N(CC#C)[C@H](Cc2ccccc2)[C@@H]2OC(C)...</td>\n",
       "      <td>1.342423</td>\n",
       "    </tr>\n",
       "    <tr>\n",
       "      <th>1</th>\n",
       "      <td>C#CCN1C(=O)N(CC#C)[C@H](Cc2ccccc2)[C@H](O)[C@@...</td>\n",
       "      <td>1.342423</td>\n",
       "    </tr>\n",
       "    <tr>\n",
       "      <th>2</th>\n",
       "      <td>C/C(=C\\C(=O)N(C)[C@@H](Cc1ccccc1)[C@H](O)CN(Cc...</td>\n",
       "      <td>1.720490</td>\n",
       "    </tr>\n",
       "    <tr>\n",
       "      <th>3</th>\n",
       "      <td>C/C(=N/O)c1cccc(CN2C(=O)N(Cc3cccc(/C(C)=N/O)c3...</td>\n",
       "      <td>-1.744727</td>\n",
       "    </tr>\n",
       "    <tr>\n",
       "      <th>4</th>\n",
       "      <td>C/C(=N/O)c1cccc(CN2[C@H](COc3ccccc3)[C@H](O)[C...</td>\n",
       "      <td>0.531479</td>\n",
       "    </tr>\n",
       "    <tr>\n",
       "      <th>...</th>\n",
       "      <td>...</td>\n",
       "      <td>...</td>\n",
       "    </tr>\n",
       "    <tr>\n",
       "      <th>2524</th>\n",
       "      <td>O[C@H]1C[C@H](Cc2ccccc2)[C@H](O)[C@@H](Cc2cccc...</td>\n",
       "      <td>6.301030</td>\n",
       "    </tr>\n",
       "    <tr>\n",
       "      <th>2525</th>\n",
       "      <td>S=C(NCCOc1nc2cc(Cl)ccc2n2cccc12)Nc1ccc(Br)cn1</td>\n",
       "      <td>1.845098</td>\n",
       "    </tr>\n",
       "    <tr>\n",
       "      <th>2526</th>\n",
       "      <td>[N-]=[N+]=N[C@@H](Cc1ccccc1)[C@@H]1[C@@H](O)[C...</td>\n",
       "      <td>2.518514</td>\n",
       "    </tr>\n",
       "    <tr>\n",
       "      <th>2527</th>\n",
       "      <td>[N-]=[N+]=Nc1ccc(S(=O)(=O)Nc2cccc(C(c3c(O)oc4c...</td>\n",
       "      <td>0.414973</td>\n",
       "    </tr>\n",
       "    <tr>\n",
       "      <th>2528</th>\n",
       "      <td>[O-][S+]1C[C@](CO)(Cc2ccccc2)C(O)[C@@](CO)(Cc2...</td>\n",
       "      <td>4.113943</td>\n",
       "    </tr>\n",
       "  </tbody>\n",
       "</table>\n",
       "<p>2529 rows × 2 columns</p>\n",
       "</div>"
      ],
      "text/plain": [
       "                                                 smiles       pKi\n",
       "0     C#CCN1C(=O)N(CC#C)[C@H](Cc2ccccc2)[C@@H]2OC(C)...  1.342423\n",
       "1     C#CCN1C(=O)N(CC#C)[C@H](Cc2ccccc2)[C@H](O)[C@@...  1.342423\n",
       "2     C/C(=C\\C(=O)N(C)[C@@H](Cc1ccccc1)[C@H](O)CN(Cc...  1.720490\n",
       "3     C/C(=N/O)c1cccc(CN2C(=O)N(Cc3cccc(/C(C)=N/O)c3... -1.744727\n",
       "4     C/C(=N/O)c1cccc(CN2[C@H](COc3ccccc3)[C@H](O)[C...  0.531479\n",
       "...                                                 ...       ...\n",
       "2524  O[C@H]1C[C@H](Cc2ccccc2)[C@H](O)[C@@H](Cc2cccc...  6.301030\n",
       "2525      S=C(NCCOc1nc2cc(Cl)ccc2n2cccc12)Nc1ccc(Br)cn1  1.845098\n",
       "2526  [N-]=[N+]=N[C@@H](Cc1ccccc1)[C@@H]1[C@@H](O)[C...  2.518514\n",
       "2527  [N-]=[N+]=Nc1ccc(S(=O)(=O)Nc2cccc(C(c3c(O)oc4c...  0.414973\n",
       "2528  [O-][S+]1C[C@](CO)(Cc2ccccc2)C(O)[C@@](CO)(Cc2...  4.113943\n",
       "\n",
       "[2529 rows x 2 columns]"
      ]
     },
     "execution_count": 6,
     "metadata": {},
     "output_type": "execute_result"
    }
   ],
   "source": [
    "# data cleaning - not all chembl entries are created equal\n",
    "df = pd.read_table('lib/data/2_hiv_protease.tsv')\n",
    "\n",
    "# some entries are missing label values\n",
    "df = df[df['Standard Value'] > 0]\n",
    "\n",
    "# there are duplicate values, let's get the mean Ki per smiles\n",
    "df = pd.DataFrame( df.groupby(['Smiles'])['Standard Value'].mean() )\n",
    "\n",
    "# now the Ki values are very diverse, let's take the log10 transform\n",
    "data = {'smiles': df['Standard Value'].index,\n",
    "        'pKi': np.log10(df['Standard Value'].values)}\n",
    "df = pd.DataFrame(data)\n",
    "df"
   ]
  },
  {
   "cell_type": "code",
   "execution_count": 7,
   "metadata": {},
   "outputs": [
    {
     "name": "stderr",
     "output_type": "stream",
     "text": [
      "/home/oscar/.local/lib/python3.10/site-packages/numpy/core/fromnumeric.py:86: RuntimeWarning: overflow encountered in reduce\n",
      "  return ufunc.reduce(obj, axis, dtype, out, **passkwargs)\n",
      "/home/oscar/.local/lib/python3.10/site-packages/numpy/core/fromnumeric.py:86: RuntimeWarning: overflow encountered in reduce\n",
      "  return ufunc.reduce(obj, axis, dtype, out, **passkwargs)\n",
      "/home/oscar/.local/lib/python3.10/site-packages/numpy/core/fromnumeric.py:86: RuntimeWarning: overflow encountered in reduce\n",
      "  return ufunc.reduce(obj, axis, dtype, out, **passkwargs)\n"
     ]
    }
   ],
   "source": [
    "# Now we generate the vector of vectors for each type of descriptor\n",
    "df = df[0:200]\n",
    "y = df['pKi']\n",
    "\n",
    "# rdkit descriptors - 208 total\n",
    "with Pool(processes=os.cpu_count()) as p:\n",
    "    x_rdkit = np.stack(p.map(smiles_2_rdkitDescr, df.smiles.values))\n",
    "\n",
    "# Extended fingerprint\n",
    "with Pool(processes=os.cpu_count()) as p:\n",
    "    x_ecfp3 = np.stack(p.map(smiles_2_ecfp3, df.smiles.values))\n",
    "\n",
    "with Pool(processes=os.cpu_count()) as p:\n",
    "    x_ecfp4 = np.stack(p.map(smiles_2_ecfp4, df.smiles.values))\n",
    "\n",
    "# MACCS\n",
    "with Pool(processes=os.cpu_count()) as p:\n",
    "    x_MACCS = np.stack(p.map(smiles_2_MACCS, df.smiles.values))\n",
    "\n",
    "# Mordred - comment this block out to save time\n",
    "with Pool(processes=os.cpu_count()) as p:\n",
    "    x_mordred = np.stack(p.map(smiles_2_mordredDescr, df.smiles.values))\n"
   ]
  },
  {
   "cell_type": "code",
   "execution_count": 8,
   "metadata": {},
   "outputs": [
    {
     "name": "stdout",
     "output_type": "stream",
     "text": [
      "feature - algorithm - RMSE - r2\n",
      "x_rdkit RF 6.310693 0.174586\n",
      "x_ecfp3 RF 4.970231 0.350718\n",
      "x_ecfp4 RF 5.658704 -0.005237\n",
      "x_MACCS RF 6.166902 0.311731\n",
      "x_mordred RF 6.065861 0.226164\n"
     ]
    }
   ],
   "source": [
    "# now let's apply our previous code to this problem\n",
    "from sklearn.ensemble import RandomForestRegressor\n",
    "from sklearn.model_selection import train_test_split\n",
    "from sklearn.metrics import r2_score, mean_squared_error\n",
    "import random\n",
    "\n",
    "# define a dict of ML algorithms\n",
    "dict_algorithm = {\n",
    "    \"RF\": RandomForestRegressor()\n",
    "}\n",
    "\n",
    "# define a dict of molvectors\n",
    "dict_feats = {\n",
    "    'x_rdkit': x_rdkit,\n",
    "    'x_ecfp3': x_ecfp3,\n",
    "    'x_ecfp4': x_ecfp4,\n",
    "    'x_MACCS': x_MACCS,\n",
    "    'x_mordred': x_mordred, # comment this out to save time\n",
    "}\n",
    "\n",
    "print('feature - algorithm - RMSE - r2')\n",
    "\n",
    "resample_num = 5\n",
    "\n",
    "# for each molvector type\n",
    "for f, f_df in dict_feats.items():\n",
    "\n",
    "    # for each algorithm\n",
    "    for m, model_instantiation in dict_algorithm.items():\n",
    "\n",
    "        #traack metrics\n",
    "        rmse_total = 0\n",
    "        r2_total = 0\n",
    "\n",
    "        for rep in range(resample_num):\n",
    "            # each resmaple produces a novel dataset and model\n",
    "            x_train, x_test, y_train, y_test = train_test_split(\n",
    "                f_df,\n",
    "                y,\n",
    "                test_size=0.3,\n",
    "                random_state=random.randint(1,999))\n",
    "            model_instantiation.fit(x_train, y_train)\n",
    "\n",
    "            # tot up metrics\n",
    "            test_preds = model_instantiation.predict(x_test)\n",
    "            col1 = f\n",
    "            col2 = m\n",
    "            rmse_total = rmse_total + mean_squared_error(y_test, test_preds)\n",
    "            r2_total = r2_total + r2_score(y_test, test_preds)\n",
    "        \n",
    "        # get mean summary stats\n",
    "        mean_rmse = rmse_total / resample_num\n",
    "        mean_r2 = r2_total / resample_num\n",
    "\n",
    "        newrow = pd.DataFrame( [[col1, col2, mean_rmse, mean_r2]] ,columns=['feat', 'model', 'RMSE', 'r2']) \n",
    "        print(newrow.to_string(index=False, header=False))"
   ]
  },
  {
   "attachments": {},
   "cell_type": "markdown",
   "metadata": {},
   "source": [
    "# Summary - what did we learn\n",
    "\n",
    "Here in this problem we see that the rdkit descriptors has been outcompeted by one or more of the other descriptors (variability due to random train:test split seed value). This is more in line broadly with the literature, as ecfp, MACCS and mordred are popular.\n",
    "\n",
    "This is a problem that is highly complex compared to the prevous LogP example. There are 200 datapoints compared to 100, the compounds are of a greater diversity in general, and a componds property is no longer contingent just on the molecule, but also the target site, ADME etc. We have no pre-baked algorithms that can get you close to the predicted value log aLogP can with our first LogP example. You have to experimentally measure this, sorry!\n",
    "\n",
    "Here then we see that rdkit is outcompetedd, the 208 numebrs it uses are not containing as sufficient detail as the far richer MACCS and mordred descriptors. Althought ecfp curiously weren't that performant here, unable to outcompete rdkit despite their richer descriptioons of molecules. Then again thir downfall is their resolution, being binary rather than floating points.\n",
    "\n",
    "The take home is that it's worth trying a few appraches to encoding your molecules into vectors."
   ]
  },
  {
   "cell_type": "code",
   "execution_count": 9,
   "metadata": {},
   "outputs": [
    {
     "data": {
      "image/png": "[encoded data removed]",
      "text/plain": [
       "<Figure size 640x480 with 1 Axes>"
      ]
     },
     "metadata": {},
     "output_type": "display_data"
    }
   ],
   "source": [
    "# for satisfaction let's look at the predicted vs experimental Ki values for that last RF modred model\n",
    "plt.plot(y_test, test_preds, 'o', color='black');\n",
    "plt.xlabel('true HIV1 protease ki');\n",
    "plt.ylabel('predicted HIV1 protease ki');"
   ]
  }
 ],
 "metadata": {
  "kernelspec": {
   "display_name": "Python 3",
   "language": "python",
   "name": "python3"
  },
  "language_info": {
   "codemirror_mode": {
    "name": "ipython",
    "version": 3
   },
   "file_extension": ".py",
   "mimetype": "text/x-python",
   "name": "python",
   "nbconvert_exporter": "python",
   "pygments_lexer": "ipython3",
   "version": "3.10.6"
  },
  "orig_nbformat": 4
 },
 "nbformat": 4,
 "nbformat_minor": 2
}
