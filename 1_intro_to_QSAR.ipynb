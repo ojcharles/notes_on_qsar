{
 "cells": [
  {
   "attachments": {},
   "cell_type": "markdown",
   "metadata": {},
   "source": [
    "# 1 - Introduction to representing molecules quantiatively\n",
    "\n",
    "In this lesson we will learn how to take molecules and represent them quantiatively. \n",
    "\n",
    "Learning outcomes: \n",
    "- What is a Structure Activity Relationship (SAR)?\n",
    "- The problem with qualitative models\n",
    "- Example of a simple but effective QSAR\n",
    "- Working quantitatively\n",
    "- Developing our first simple QSAR model.\n",
    "- Improving the model"
   ]
  },
  {
   "attachments": {},
   "cell_type": "markdown",
   "metadata": {},
   "source": [
    "### What is a Structure Activity Relationship (SAR)?\n",
    "\n",
    "A Structure Activity Relationship (SAR) is the relationship between the chemical structure of a molecule and its biological activity. The SAR concept has been used qualitatively by medicinal chemists for decades and works a little like this example:\n",
    "     \n",
    "- \"Positive charge in this area is good as it binds the free Serine oxygen electrons, but we also need a small compound for the small binding pocket\". \n",
    "\n",
    "![SAR](lib/imgs/1_SAR.png)\n",
    "\n",
    "A SAR is often used in drug discovery to guide the acquisition or synthesis of desirable new molecules. This is often synonymous with a chemists intuition or experience. "
   ]
  },
  {
   "attachments": {},
   "cell_type": "markdown",
   "metadata": {},
   "source": [
    "### The problem with qualitative models\n",
    "The problem with relying purely on qualitative SAR's is that any given medicinal chemist can give their opinion on maybe 1 molecule per minute, that's only 2400 in a 40 hour working week. Often compound libraries have millions of members! This is why the Q in QSAR is so important, codifying SAR models as quantitative statistical models allows us to take advantage of the speed, scalability and cost of shifting compute to silicon."
   ]
  },
  {
   "attachments": {},
   "cell_type": "markdown",
   "metadata": {},
   "source": [
    "### Example of a simple but effective QSAR\n",
    "Anaesthetics are strange compounds, they put humans into a sleep-like state useful for surgery. Although we still do not know exactly how the drugs we have identified do this, early research by Meyer and Overton identified that compounds that were more soluble in Olive oil were more potent anaesthetics. They measured the Olive oil:Gas partition coefficient (10 here would meant 10 parts of drug x are present in olive oil, to 1 part in gas at 37 celcius, think of this as lipophilicity) of several anaesthetic drugs and the correlation is clear as day. A strong linear relationship.\n",
    "![1_m_o](lib/imgs/2_meyer_overton.png)\n",
    "\n",
    "This is a simple QSAR model, but this model relies on us having experimentally measured data which is expensive to measure. Can we overcome this with se of statistics and other QSAR concepts?"
   ]
  },
  {
   "attachments": {},
   "cell_type": "markdown",
   "metadata": {},
   "source": [
    "### Working quantitatively\n",
    "This process requires two key procedures, we need to:\n",
    "- Represent molecules as numeric vectors, allowing us to apply mathematical functions\n",
    "- Develop models that act on molecular vectors to return predicted values\n",
    "\n",
    "A general approach to deriving molecular vectors is to use descriptors, cheap to caculate values you can easily derive. Examples could be to simply add up the number of atoms present, and calculate the molecular weight of the compound.\n",
    "\n",
    "To do this we need some representation of the molecules in data, the typical go-to is the SMILES string e.g. Ritonavir a HIV protease inhibitor has the smiles string CC(C)C1=NC(=CS1)CN(C)C(=O)N[C@@H](C(C)C)C(=O)N[C@@H](CC2=CC=CC=C2)C[C@@H]([C@H](CC3=CC=CC=C3)NC(=O)OCC4=CN=CS4)O\n",
    "\n",
    "To handle the compute we will need to choose a framework. Do we code in Java, Python, R. What Packages should we use? etc Here we will code in Python, and just use a single package for now rdkit.\n",
    "\n",
    "Let's quickly parse Ritonavir and calculate its molecular weight"
   ]
  },
  {
   "cell_type": "code",
   "execution_count": 1,
   "metadata": {},
   "outputs": [],
   "source": [
    "# Installing packages, we will use these throughout but you can see rdkit in there\n",
    "# remove the \"#\" in the below line and run the cell\n",
    "# ! python3 -m pip install pandas numpy xgboost sklearn matplotlib rdkit deepchem mordred tensorflow scipy seaborn opencv-python"
   ]
  },
  {
   "cell_type": "code",
   "execution_count": 2,
   "metadata": {},
   "outputs": [
    {
     "data": {
      "image/png": "[encoded data removed]",
      "text/plain": [
       "<rdkit.Chem.rdchem.Mol at 0x7fbf9dd76b90>"
      ]
     },
     "execution_count": 2,
     "metadata": {},
     "output_type": "execute_result"
    }
   ],
   "source": [
    "# Parse the Ritonavir\n",
    "from rdkit import Chem\n",
    "from rdkit.Chem import AllChem\n",
    "smiles = 'CC(C)C1=NC(=CS1)CN(C)C(=O)N[C@@H](C(C)C)C(=O)N[C@@H](CC2=CC=CC=C2)C[C@@H]([C@H](CC3=CC=CC=C3)NC(=O)OCC4=CN=CS4)O'\n",
    "mol  = AllChem.MolFromSmiles(smiles)\n",
    "\n",
    "# Draw Ritonavir\n",
    "from rdkit.Chem import Draw\n",
    "from rdkit.Chem.Draw import IPythonConsole\n",
    "mol"
   ]
  },
  {
   "cell_type": "code",
   "execution_count": 3,
   "metadata": {},
   "outputs": [
    {
     "name": "stdout",
     "output_type": "stream",
     "text": [
      "Ritonavir contains 50 atoms\n",
      "Ritonavir has a molecualr weight of 720.312760636\n",
      "A simple 2-member numeric vector of Ritonavir would then be:\n"
     ]
    },
    {
     "data": {
      "text/plain": [
       "array([ 50. , 720.5], dtype=float16)"
      ]
     },
     "execution_count": 3,
     "metadata": {},
     "output_type": "execute_result"
    }
   ],
   "source": [
    "# Calculate the molecular weight and number of atoms\n",
    "from rdkit.Chem.Descriptors import ExactMolWt, fr_amide, NumHDonors, NumValenceElectrons\n",
    "import numpy as np\n",
    "n_atoms = mol.GetNumAtoms()\n",
    "mol_weight = ExactMolWt(mol)\n",
    "\n",
    "print('Ritonavir contains ' + str(n_atoms) + ' atoms')\n",
    "print('Ritonavir has a molecualr weight of '  + str(mol_weight))\n",
    "\n",
    "print('A simple 2-member numeric vector of Ritonavir would then be:')\n",
    "np.array([np.float16(n_atoms),np.float16(mol_weight)])"
   ]
  },
  {
   "attachments": {},
   "cell_type": "markdown",
   "metadata": {},
   "source": [
    "### Developing our first simple QSAR model.\n",
    "\n",
    "Knowing that the activity of an anaesthetic is intimitely related to its lipophilicity, we can take some known lipophilicty data and try to predict that as a surrogate for anaesthetic effecicy. ( this will be a higher throughput test than assessing potency in mouse induced-sleeep experiments).\n",
    "\n",
    "Aim: Can we predict the LogP (an octanol-water partition coefficient used in more modern times) of several compounds. We will treat this like a typical machine learning problem, take some of the data and train a model, then assess its predictive power on some reserve test data the model has never seen.\n",
    "\n",
    "- So we need some data. A set of compounds each with one or several labels we want to predict. \n",
    "This has been pre-downloaded and lightly cleaned from CHEMBL, a large data resource of molecular properties and activities. THis activity makes us of 100 datapoints from the CHBMEL document ![CHEMBL635482](https://www.ebi.ac.uk/chembl/assay_report_card/CHEMBL635482) \n",
    "\n",
    "- The framework we will use is rdkit, we will also use the pandas package to handle the data\n",
    "\n",
    "- sklearn is a package that will let us develop the predictive model of LogP\n",
    "\n",
    "- To assess the model performance we use use the test:train split method. Training (inferring the optimal model parameters) with a portion of data, then assessing model predictive performance with a set of data it has never seen."
   ]
  },
  {
   "cell_type": "code",
   "execution_count": 4,
   "metadata": {},
   "outputs": [
    {
     "data": {
      "text/html": [
       "<div>\n",
       "<style scoped>\n",
       "    .dataframe tbody tr th:only-of-type {\n",
       "        vertical-align: middle;\n",
       "    }\n",
       "\n",
       "    .dataframe tbody tr th {\n",
       "        vertical-align: top;\n",
       "    }\n",
       "\n",
       "    .dataframe thead th {\n",
       "        text-align: right;\n",
       "    }\n",
       "</style>\n",
       "<table border=\"1\" class=\"dataframe\">\n",
       "  <thead>\n",
       "    <tr style=\"text-align: right;\">\n",
       "      <th></th>\n",
       "      <th>Molecule ChEMBL ID</th>\n",
       "      <th>Smiles</th>\n",
       "      <th>Standard Type</th>\n",
       "      <th>Standard Value</th>\n",
       "    </tr>\n",
       "  </thead>\n",
       "  <tbody>\n",
       "    <tr>\n",
       "      <th>0</th>\n",
       "      <td>CHEMBL428358</td>\n",
       "      <td>CC(=O)OC1OC(C)C(OC(C)=O)C(OC(C)=O)C1NC(=O)N(CC...</td>\n",
       "      <td>LogP</td>\n",
       "      <td>1.32</td>\n",
       "    </tr>\n",
       "    <tr>\n",
       "      <th>1</th>\n",
       "      <td>CHEMBL274417</td>\n",
       "      <td>O=NN(CCCl)C(=O)NC1CCSCC1</td>\n",
       "      <td>LogP</td>\n",
       "      <td>2.07</td>\n",
       "    </tr>\n",
       "    <tr>\n",
       "      <th>2</th>\n",
       "      <td>CHEMBL268495</td>\n",
       "      <td>O=NN(CCCl)C(=O)NC1CC2CCC1C2</td>\n",
       "      <td>LogP</td>\n",
       "      <td>2.98</td>\n",
       "    </tr>\n",
       "    <tr>\n",
       "      <th>3</th>\n",
       "      <td>CHEMBL2094020</td>\n",
       "      <td>O=NN(CCCl)C(=O)N[C@H]1C(O)O[C@H](CO)[C@@H](O)[...</td>\n",
       "      <td>LogP</td>\n",
       "      <td>-0.66</td>\n",
       "    </tr>\n",
       "    <tr>\n",
       "      <th>4</th>\n",
       "      <td>CHEMBL274127</td>\n",
       "      <td>O=NN(CCCl)C(=O)NC1C=CCCC1</td>\n",
       "      <td>LogP</td>\n",
       "      <td>2.45</td>\n",
       "    </tr>\n",
       "  </tbody>\n",
       "</table>\n",
       "</div>"
      ],
      "text/plain": [
       "  Molecule ChEMBL ID                                             Smiles  \\\n",
       "0       CHEMBL428358  CC(=O)OC1OC(C)C(OC(C)=O)C(OC(C)=O)C1NC(=O)N(CC...   \n",
       "1       CHEMBL274417                           O=NN(CCCl)C(=O)NC1CCSCC1   \n",
       "2       CHEMBL268495                        O=NN(CCCl)C(=O)NC1CC2CCC1C2   \n",
       "3      CHEMBL2094020  O=NN(CCCl)C(=O)N[C@H]1C(O)O[C@H](CO)[C@@H](O)[...   \n",
       "4       CHEMBL274127                          O=NN(CCCl)C(=O)NC1C=CCCC1   \n",
       "\n",
       "  Standard Type  Standard Value  \n",
       "0          LogP            1.32  \n",
       "1          LogP            2.07  \n",
       "2          LogP            2.98  \n",
       "3          LogP           -0.66  \n",
       "4          LogP            2.45  "
      ]
     },
     "execution_count": 4,
     "metadata": {},
     "output_type": "execute_result"
    }
   ],
   "source": [
    "# read data\n",
    "import pandas as pd\n",
    "df = pd.read_table('lib/data/1_data.tsv')\n",
    "# print the header, is this looking ok?\n",
    "df.head()"
   ]
  },
  {
   "cell_type": "code",
   "execution_count": 5,
   "metadata": {},
   "outputs": [
    {
     "data": {
      "text/html": [
       "<div>\n",
       "<style scoped>\n",
       "    .dataframe tbody tr th:only-of-type {\n",
       "        vertical-align: middle;\n",
       "    }\n",
       "\n",
       "    .dataframe tbody tr th {\n",
       "        vertical-align: top;\n",
       "    }\n",
       "\n",
       "    .dataframe thead th {\n",
       "        text-align: right;\n",
       "    }\n",
       "</style>\n",
       "<table border=\"1\" class=\"dataframe\">\n",
       "  <thead>\n",
       "    <tr style=\"text-align: right;\">\n",
       "      <th></th>\n",
       "      <th>Molecule ChEMBL ID</th>\n",
       "      <th>Smiles</th>\n",
       "      <th>Standard Type</th>\n",
       "      <th>Standard Value</th>\n",
       "      <th>n_atoms</th>\n",
       "      <th>mol_weight</th>\n",
       "      <th>fr_amide</th>\n",
       "      <th>NumHDonors</th>\n",
       "      <th>NumValenceElectrons</th>\n",
       "    </tr>\n",
       "  </thead>\n",
       "  <tbody>\n",
       "    <tr>\n",
       "      <th>0</th>\n",
       "      <td>CHEMBL428358</td>\n",
       "      <td>CC(=O)OC1OC(C)C(OC(C)=O)C(OC(C)=O)C1NC(=O)N(CC...</td>\n",
       "      <td>LogP</td>\n",
       "      <td>1.320</td>\n",
       "      <td>28</td>\n",
       "      <td>423.104457</td>\n",
       "      <td>2</td>\n",
       "      <td>1</td>\n",
       "      <td>158</td>\n",
       "    </tr>\n",
       "    <tr>\n",
       "      <th>1</th>\n",
       "      <td>CHEMBL274417</td>\n",
       "      <td>O=NN(CCCl)C(=O)NC1CCSCC1</td>\n",
       "      <td>LogP</td>\n",
       "      <td>2.070</td>\n",
       "      <td>15</td>\n",
       "      <td>251.049525</td>\n",
       "      <td>2</td>\n",
       "      <td>1</td>\n",
       "      <td>86</td>\n",
       "    </tr>\n",
       "    <tr>\n",
       "      <th>2</th>\n",
       "      <td>CHEMBL268495</td>\n",
       "      <td>O=NN(CCCl)C(=O)NC1CC2CCC1C2</td>\n",
       "      <td>LogP</td>\n",
       "      <td>2.980</td>\n",
       "      <td>16</td>\n",
       "      <td>245.093104</td>\n",
       "      <td>2</td>\n",
       "      <td>1</td>\n",
       "      <td>90</td>\n",
       "    </tr>\n",
       "    <tr>\n",
       "      <th>3</th>\n",
       "      <td>CHEMBL2094020</td>\n",
       "      <td>O=NN(CCCl)C(=O)N[C@H]1C(O)O[C@H](CO)[C@@H](O)[...</td>\n",
       "      <td>LogP</td>\n",
       "      <td>-0.660</td>\n",
       "      <td>20</td>\n",
       "      <td>313.067678</td>\n",
       "      <td>2</td>\n",
       "      <td>5</td>\n",
       "      <td>116</td>\n",
       "    </tr>\n",
       "    <tr>\n",
       "      <th>4</th>\n",
       "      <td>CHEMBL274127</td>\n",
       "      <td>O=NN(CCCl)C(=O)NC1C=CCCC1</td>\n",
       "      <td>LogP</td>\n",
       "      <td>2.450</td>\n",
       "      <td>15</td>\n",
       "      <td>231.077454</td>\n",
       "      <td>2</td>\n",
       "      <td>1</td>\n",
       "      <td>84</td>\n",
       "    </tr>\n",
       "    <tr>\n",
       "      <th>...</th>\n",
       "      <td>...</td>\n",
       "      <td>...</td>\n",
       "      <td>...</td>\n",
       "      <td>...</td>\n",
       "      <td>...</td>\n",
       "      <td>...</td>\n",
       "      <td>...</td>\n",
       "      <td>...</td>\n",
       "      <td>...</td>\n",
       "    </tr>\n",
       "    <tr>\n",
       "      <th>96</th>\n",
       "      <td>CHEMBL13072</td>\n",
       "      <td>O=NN(CCF)C(=O)NC1CCCCC1</td>\n",
       "      <td>LogP</td>\n",
       "      <td>2.250</td>\n",
       "      <td>15</td>\n",
       "      <td>217.122655</td>\n",
       "      <td>2</td>\n",
       "      <td>1</td>\n",
       "      <td>86</td>\n",
       "    </tr>\n",
       "    <tr>\n",
       "      <th>97</th>\n",
       "      <td>CHEMBL11985</td>\n",
       "      <td>CC12CC3(C)CC(C)(C1)CC(NC(=O)N(CCCl)N=O)(C2)C3</td>\n",
       "      <td>LogP</td>\n",
       "      <td>5.575</td>\n",
       "      <td>22</td>\n",
       "      <td>327.171355</td>\n",
       "      <td>2</td>\n",
       "      <td>1</td>\n",
       "      <td>124</td>\n",
       "    </tr>\n",
       "    <tr>\n",
       "      <th>98</th>\n",
       "      <td>CHEMBL11976</td>\n",
       "      <td>CC(C)(Cc1ccccc1)NC(=O)N(CCCl)N=O</td>\n",
       "      <td>LogP</td>\n",
       "      <td>3.420</td>\n",
       "      <td>19</td>\n",
       "      <td>283.108754</td>\n",
       "      <td>2</td>\n",
       "      <td>1</td>\n",
       "      <td>104</td>\n",
       "    </tr>\n",
       "    <tr>\n",
       "      <th>99</th>\n",
       "      <td>CHEMBL2051749</td>\n",
       "      <td>CC(=O)O[C@H]1CCCC[C@@H]1NC(=O)N(CCCl)N=O</td>\n",
       "      <td>LogP</td>\n",
       "      <td>2.560</td>\n",
       "      <td>19</td>\n",
       "      <td>291.098584</td>\n",
       "      <td>2</td>\n",
       "      <td>1</td>\n",
       "      <td>108</td>\n",
       "    </tr>\n",
       "    <tr>\n",
       "      <th>100</th>\n",
       "      <td>CHEMBL12684</td>\n",
       "      <td>O=NN(CCCl)C(=O)NC1CCC(CCl)CC1</td>\n",
       "      <td>LogP</td>\n",
       "      <td>3.010</td>\n",
       "      <td>17</td>\n",
       "      <td>281.069782</td>\n",
       "      <td>2</td>\n",
       "      <td>1</td>\n",
       "      <td>98</td>\n",
       "    </tr>\n",
       "  </tbody>\n",
       "</table>\n",
       "<p>101 rows × 9 columns</p>\n",
       "</div>"
      ],
      "text/plain": [
       "    Molecule ChEMBL ID                                             Smiles  \\\n",
       "0         CHEMBL428358  CC(=O)OC1OC(C)C(OC(C)=O)C(OC(C)=O)C1NC(=O)N(CC...   \n",
       "1         CHEMBL274417                           O=NN(CCCl)C(=O)NC1CCSCC1   \n",
       "2         CHEMBL268495                        O=NN(CCCl)C(=O)NC1CC2CCC1C2   \n",
       "3        CHEMBL2094020  O=NN(CCCl)C(=O)N[C@H]1C(O)O[C@H](CO)[C@@H](O)[...   \n",
       "4         CHEMBL274127                          O=NN(CCCl)C(=O)NC1C=CCCC1   \n",
       "..                 ...                                                ...   \n",
       "96         CHEMBL13072                            O=NN(CCF)C(=O)NC1CCCCC1   \n",
       "97         CHEMBL11985      CC12CC3(C)CC(C)(C1)CC(NC(=O)N(CCCl)N=O)(C2)C3   \n",
       "98         CHEMBL11976                   CC(C)(Cc1ccccc1)NC(=O)N(CCCl)N=O   \n",
       "99       CHEMBL2051749           CC(=O)O[C@H]1CCCC[C@@H]1NC(=O)N(CCCl)N=O   \n",
       "100        CHEMBL12684                      O=NN(CCCl)C(=O)NC1CCC(CCl)CC1   \n",
       "\n",
       "    Standard Type  Standard Value  n_atoms  mol_weight  fr_amide  NumHDonors  \\\n",
       "0            LogP           1.320       28  423.104457         2           1   \n",
       "1            LogP           2.070       15  251.049525         2           1   \n",
       "2            LogP           2.980       16  245.093104         2           1   \n",
       "3            LogP          -0.660       20  313.067678         2           5   \n",
       "4            LogP           2.450       15  231.077454         2           1   \n",
       "..            ...             ...      ...         ...       ...         ...   \n",
       "96           LogP           2.250       15  217.122655         2           1   \n",
       "97           LogP           5.575       22  327.171355         2           1   \n",
       "98           LogP           3.420       19  283.108754         2           1   \n",
       "99           LogP           2.560       19  291.098584         2           1   \n",
       "100          LogP           3.010       17  281.069782         2           1   \n",
       "\n",
       "     NumValenceElectrons  \n",
       "0                    158  \n",
       "1                     86  \n",
       "2                     90  \n",
       "3                    116  \n",
       "4                     84  \n",
       "..                   ...  \n",
       "96                    86  \n",
       "97                   124  \n",
       "98                   104  \n",
       "99                   108  \n",
       "100                   98  \n",
       "\n",
       "[101 rows x 9 columns]"
      ]
     },
     "execution_count": 5,
     "metadata": {},
     "output_type": "execute_result"
    }
   ],
   "source": [
    "### for each molecule calculate some simple descriptors that may be informative of LogP\n",
    "# read the set of molecules\n",
    "mols = [Chem.MolFromSmiles(smi) for smi in df.Smiles]\n",
    "\n",
    "# for each mol calculate some key descriptors and add as columns to this dataframe\n",
    "df['n_atoms'] = [m.GetNumAtoms() for m in mols]\n",
    "df['mol_weight'] = [ExactMolWt(m) for m in mols]\n",
    "df['fr_amide'] = [fr_amide(m) for m in mols]\n",
    "df['NumHDonors'] = [NumHDonors(m) for m in mols]\n",
    "df['NumValenceElectrons'] = [NumValenceElectrons(m) for m in mols]\n",
    "df"
   ]
  },
  {
   "attachments": {},
   "cell_type": "markdown",
   "metadata": {},
   "source": [
    "Great! Now for each molecule we have a label (the LogP), and a set of descriptors.\n",
    "Let's build a model!"
   ]
  },
  {
   "cell_type": "code",
   "execution_count": 6,
   "metadata": {},
   "outputs": [],
   "source": [
    "# we will use the sklearn package to extend our codebase into the ML territory\n",
    "from sklearn.model_selection import train_test_split\n",
    "\n",
    "# let's clean this dataset and just keep the columns we need.\n",
    "x = df.iloc[:, [4,5,6,7]]       # molecular vectors\n",
    "y = df.iloc[:,3]                # LogP\n",
    "\n",
    "# split the data to allow trainig and predictive assessment\n",
    "x_train, x_test, y_train, y_test = train_test_split(\n",
    "        x, y, test_size=0.3, random_state=123) "
   ]
  },
  {
   "cell_type": "code",
   "execution_count": 7,
   "metadata": {},
   "outputs": [
    {
     "name": "stdout",
     "output_type": "stream",
     "text": [
      "The mean square error is:  1.6642886311123704\n",
      "The correlation coefficient r2 is:  0.19139231059482154\n"
     ]
    }
   ],
   "source": [
    "# Random forest is a good default model to choose\n",
    "from sklearn.ensemble import RandomForestRegressor\n",
    "from sklearn.metrics import r2_score, mean_squared_error\n",
    "\n",
    "# fit the model, i.e. train\n",
    "model = RandomForestRegressor()\n",
    "model.fit(x_train, y_train)\n",
    "\n",
    "# for the test molecules, predict their LogP\n",
    "y_test_pred = model.predict(x_test)\n",
    "\n",
    "# model predictive performance metrics\n",
    "mse = mean_squared_error(y_pred= y_test_pred, y_true=y_test)\n",
    "r2 = r2_score(y_pred= y_test_pred, y_true=y_test)\n",
    "print(\"The mean square error is: \", mse)\n",
    "print(\"The correlation coefficient r2 is: \", r2)"
   ]
  },
  {
   "attachments": {},
   "cell_type": "markdown",
   "metadata": {},
   "source": [
    "So now we have a machine learning model that takes a molecule and predicts it's LogP!\n",
    "The perfomance metrics tell us that on average the model is circa 1.5 LogP off the true value, this is only partially useful though, what's the LogP range of the data we fed in etc? Always plot. Let's look at the test set correlation now, does it look meaningful?"
   ]
  },
  {
   "cell_type": "code",
   "execution_count": 8,
   "metadata": {},
   "outputs": [
    {
     "data": {
      "image/png": "[encoded data removed]",
      "text/plain": [
       "<Figure size 640x480 with 1 Axes>"
      ]
     },
     "metadata": {},
     "output_type": "display_data"
    }
   ],
   "source": [
    "import matplotlib.pyplot as plt\n",
    "plt.plot(y_test, y_test_pred, 'o', color='black');\n",
    "plt.xlabel('true LogP');\n",
    "plt.ylabel('predicted LogP');"
   ]
  },
  {
   "attachments": {},
   "cell_type": "markdown",
   "metadata": {},
   "source": [
    "There you have it. It's by no means the prettiest or best model, but the model does appear to have some predictive power as theres certainly a correlation between predicted ans measured LogP from this data."
   ]
  },
  {
   "attachments": {},
   "cell_type": "markdown",
   "metadata": {},
   "source": [
    "### Improving the model\n",
    "\n",
    "This was a bit of a toy example, we only chose a handful of descriptors but typically one would use many more. In a typical QSAR workflow you may try many descriptors, many ML algorithms (RF, xgb, SVM etc) and various combinations of other factors. For now let's see how expanding our set of descriptors impacts the predictive performance even with only 100 datapoints total."
   ]
  },
  {
   "cell_type": "code",
   "execution_count": 9,
   "metadata": {},
   "outputs": [
    {
     "name": "stderr",
     "output_type": "stream",
     "text": [
      "2023-06-02 16:27:02.896303: I tensorflow/tsl/cuda/cudart_stub.cc:28] Could not find cuda drivers on your machine, GPU will not be used.\n",
      "2023-06-02 16:27:04.163682: I tensorflow/tsl/cuda/cudart_stub.cc:28] Could not find cuda drivers on your machine, GPU will not be used.\n",
      "2023-06-02 16:27:04.176477: I tensorflow/core/platform/cpu_feature_guard.cc:182] This TensorFlow binary is optimized to use available CPU instructions in performance-critical operations.\n",
      "To enable the following instructions: AVX2 FMA, in other operations, rebuild TensorFlow with the appropriate compiler flags.\n",
      "2023-06-02 16:27:24.371777: W tensorflow/compiler/tf2tensorrt/utils/py_utils.cc:38] TF-TRT Warning: Could not find TensorRT\n",
      "Skipped loading some PyTorch models, missing a dependency. No module named 'torch'\n",
      "Skipped loading modules with pytorch-geometric dependency, missing a dependency. No module named 'torch'\n",
      "Skipped loading modules with pytorch-lightning dependency, missing a dependency. No module named 'torch'\n",
      "Skipped loading some Jax models, missing a dependency. jax requires jaxlib to be installed. See https://github.com/google/jax#installation for installation instructions.\n"
     ]
    }
   ],
   "source": [
    "# the deepchem package is helfpul as a way to access various descriptors\n",
    "import deepchem as dc\n",
    "from multiprocessing import Pool\n",
    "import os\n",
    "\n",
    "def smiles_2_rdkitDescr(smiles):\n",
    "    featurizer = dc.feat.RDKitDescriptors()\n",
    "    return(featurizer(smiles).flatten())\n",
    "\n",
    "# rdkit descriptors - 208 total\n",
    "with Pool(processes=os.cpu_count()) as p:\n",
    "    x_rdkit = np.stack(p.map(smiles_2_rdkitDescr, df.Smiles.values))\n",
    "\n"
   ]
  },
  {
   "attachments": {},
   "cell_type": "markdown",
   "metadata": {},
   "source": [
    "rather than storethe molecular vectors in a pandas dataframe, now it's a numpy array.\n",
    "\n",
    "\n",
    "Let's take a look at the first molecules 1D array \"vector\" theres 208 floating point numbers.\n"
   ]
  },
  {
   "cell_type": "code",
   "execution_count": 10,
   "metadata": {},
   "outputs": [
    {
     "data": {
      "text/plain": [
       "array([ 1.23236585e+01,  1.23236585e+01,  7.52158973e-02, -1.39156321e+00,\n",
       "        2.02256627e-01,  4.23806000e+02,  4.01630000e+02,  4.23104457e+02,\n",
       "        1.58000000e+02,  0.00000000e+00,  3.40516605e-01, -4.56010998e-01,\n",
       "        4.56010998e-01,  3.40516605e-01,  1.03571429e+00,  1.57142857e+00,\n",
       "        2.03571429e+00,  3.54956637e+01,  9.96528058e+00,  2.50434334e+00,\n",
       "       -2.43446219e+00,  2.27133829e+00, -2.66061543e+00,  6.17647873e+00,\n",
       "       -2.60210916e-01,  2.57396081e+00,  3.23831492e+00,  6.17564097e+02,\n",
       "        2.14303569e+01,  1.57475912e+01,  1.65035201e+01,  1.30986619e+01,\n",
       "        8.24640905e+00,  8.78093153e+00,  5.83616867e+00,  6.21413315e+00,\n",
       "        3.58805557e+00,  3.75708642e+00,  2.57792088e+00,  2.73802920e+00,\n",
       "       -2.47000000e+00,  2.57396081e+00,  2.35691696e+01,  1.07584818e+01,\n",
       "        6.60318622e+00,  1.65220709e+02,  2.42642404e+01,  6.04184083e+00,\n",
       "        1.22079328e+01,  6.29002673e+00,  0.00000000e+00,  2.39390304e+01,\n",
       "        1.43836116e+01,  4.79453718e+00,  5.00891252e+00,  1.65080051e+01,\n",
       "        0.00000000e+00,  6.92373720e+00,  2.66512150e+01,  1.79346075e+01,\n",
       "        3.81256006e+01,  3.55399703e+01,  0.00000000e+00,  1.03257011e+01,\n",
       "        5.28588472e+00,  5.83387155e+01,  1.24247599e+01,  4.90706524e+00,\n",
       "        0.00000000e+00,  0.00000000e+00,  5.31678860e+00,  4.79453718e+00,\n",
       "        0.00000000e+00,  1.16009399e+01,  7.20164695e+01,  3.33310634e+01,\n",
       "        4.90706524e+00,  2.76949488e+01,  5.28588472e+00,  0.00000000e+00,\n",
       "        0.00000000e+00,  0.00000000e+00,  1.49900000e+02,  5.45827971e+01,\n",
       "        2.40852140e+01,  0.00000000e+00,  1.24247599e+01,  5.00891252e+00,\n",
       "        2.07712116e+01,  6.92373720e+00,  0.00000000e+00,  0.00000000e+00,\n",
       "        1.06026733e+01,  3.05483917e+01,  2.09641680e+01,  5.51503040e+00,\n",
       "        5.76225719e+01,  5.38352810e+00,  0.00000000e+00, -2.25092959e+00,\n",
       "       -2.31008551e+00, -4.64061699e+00,  4.66077814e+00,  0.00000000e+00,\n",
       "        7.33333333e-01,  2.80000000e+01,  1.00000000e+00,  1.20000000e+01,\n",
       "        0.00000000e+00,  1.00000000e+00,  1.00000000e+00,  0.00000000e+00,\n",
       "        0.00000000e+00,  0.00000000e+00,  1.00000000e+01,  1.00000000e+00,\n",
       "        1.30000000e+01,  7.00000000e+00,  0.00000000e+00,  1.00000000e+00,\n",
       "        1.00000000e+00,  1.00000000e+00,  4.58100000e-01,  9.27497000e+01,\n",
       "        0.00000000e+00,  0.00000000e+00,  0.00000000e+00,  0.00000000e+00,\n",
       "        0.00000000e+00,  0.00000000e+00,  0.00000000e+00,  0.00000000e+00,\n",
       "        0.00000000e+00,  0.00000000e+00,  4.00000000e+00,  4.00000000e+00,\n",
       "        0.00000000e+00,  0.00000000e+00,  0.00000000e+00,  2.00000000e+00,\n",
       "        1.00000000e+00,  0.00000000e+00,  0.00000000e+00,  0.00000000e+00,\n",
       "        0.00000000e+00,  0.00000000e+00,  0.00000000e+00,  0.00000000e+00,\n",
       "        0.00000000e+00,  1.00000000e+00,  0.00000000e+00,  2.00000000e+00,\n",
       "        0.00000000e+00,  0.00000000e+00,  0.00000000e+00,  0.00000000e+00,\n",
       "        0.00000000e+00,  0.00000000e+00,  0.00000000e+00,  0.00000000e+00,\n",
       "        0.00000000e+00,  0.00000000e+00,  0.00000000e+00,  0.00000000e+00,\n",
       "        3.00000000e+00,  4.00000000e+00,  0.00000000e+00,  0.00000000e+00,\n",
       "        1.00000000e+00,  0.00000000e+00,  0.00000000e+00,  0.00000000e+00,\n",
       "        0.00000000e+00,  0.00000000e+00,  0.00000000e+00,  0.00000000e+00,\n",
       "        0.00000000e+00,  0.00000000e+00,  0.00000000e+00,  0.00000000e+00,\n",
       "        0.00000000e+00,  0.00000000e+00,  0.00000000e+00,  0.00000000e+00,\n",
       "        0.00000000e+00,  1.00000000e+00,  0.00000000e+00,  0.00000000e+00,\n",
       "        0.00000000e+00,  0.00000000e+00,  0.00000000e+00,  0.00000000e+00,\n",
       "        0.00000000e+00,  0.00000000e+00,  0.00000000e+00,  0.00000000e+00,\n",
       "        0.00000000e+00,  0.00000000e+00,  0.00000000e+00,  0.00000000e+00,\n",
       "        0.00000000e+00,  0.00000000e+00,  0.00000000e+00,  0.00000000e+00,\n",
       "        0.00000000e+00,  0.00000000e+00,  0.00000000e+00,  0.00000000e+00,\n",
       "        1.00000000e+00])"
      ]
     },
     "execution_count": 10,
     "metadata": {},
     "output_type": "execute_result"
    }
   ],
   "source": [
    "x_rdkit[0] "
   ]
  },
  {
   "attachments": {},
   "cell_type": "markdown",
   "metadata": {},
   "source": [
    "Now we just copy the process from earlier, but generate a new set of test and train data"
   ]
  },
  {
   "cell_type": "code",
   "execution_count": 11,
   "metadata": {},
   "outputs": [
    {
     "name": "stdout",
     "output_type": "stream",
     "text": [
      "The mean square error is:  0.23154004187302818\n",
      "The correlation coefficient r2 is:  0.8875044539969063\n"
     ]
    }
   ],
   "source": [
    "# split the data to allow trainig and predictive assessment\n",
    "x_train, x_test, y_train, y_test = train_test_split(\n",
    "        x_rdkit, y, test_size=0.3, random_state=123) \n",
    "\n",
    "# fit the model, i.e. train\n",
    "model = RandomForestRegressor()\n",
    "model.fit(x_train, y_train)\n",
    "\n",
    "# for the test molecules, predict their LogP\n",
    "y_test_pred = model.predict(x_test)\n",
    "\n",
    "# model predictive performance metrics\n",
    "mse = mean_squared_error(y_pred= y_test_pred, y_true=y_test)\n",
    "r2 = r2_score(y_pred= y_test_pred, y_true=y_test)\n",
    "print(\"The mean square error is: \", mse)\n",
    "print(\"The correlation coefficient r2 is: \", r2)"
   ]
  },
  {
   "cell_type": "code",
   "execution_count": 12,
   "metadata": {},
   "outputs": [
    {
     "data": {
      "image/png": "[encoded data removed]",
      "text/plain": [
       "<Figure size 640x480 with 1 Axes>"
      ]
     },
     "metadata": {},
     "output_type": "display_data"
    }
   ],
   "source": [
    "plt.plot(y_test, y_test_pred, 'o', color='black');\n",
    "plt.xlabel('true LogP');\n",
    "plt.ylabel('predicted LogP');"
   ]
  },
  {
   "attachments": {},
   "cell_type": "markdown",
   "metadata": {},
   "source": [
    "Wowzers! This is looking pretty fantastic right?\n",
    "\n",
    "By including further, or potentially much more informative molecular descriptors our LogP model has improved dramatically. \n",
    "\n",
    "What's actually going on here is that the RDkit set of descriptors actually includes several cheap calculations that attempts to return a LogP, such as ALogP and SLogP. Which means you can get in the right ballpark quite easily for a random given molecule."
   ]
  },
  {
   "attachments": {},
   "cell_type": "markdown",
   "metadata": {},
   "source": [
    "# Summary\n",
    "This has been an introduction to QSAR modelling and the importance of molecular representation as a factor to improving predictability. Further notebooks will inue down this path introducing other machine learning algorithms, approaches etc.\n",
    "\n"
   ]
  }
 ],
 "metadata": {
  "kernelspec": {
   "display_name": "Python 3",
   "language": "python",
   "name": "python3"
  },
  "language_info": {
   "codemirror_mode": {
    "name": "ipython",
    "version": 3
   },
   "file_extension": ".py",
   "mimetype": "text/x-python",
   "name": "python",
   "nbconvert_exporter": "python",
   "pygments_lexer": "ipython3",
   "version": "3.10.6"
  },
  "orig_nbformat": 4
 },
 "nbformat": 4,
 "nbformat_minor": 2
}
