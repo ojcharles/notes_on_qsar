{
 "cells": [
  {
   "attachments": {},
   "cell_type": "markdown",
   "metadata": {},
   "source": [
    "### 2 - Graph neural networks\n",
    "\n",
    "One of the compelling reasons to use neural networks, is that the inputs no longer need to be numeric vectors. Instead we could provide the netowrks a number of different intpuy types.\n",
    "\n",
    "- The smiles string, one-hot encoded.\n",
    "- Moleculae graphs (bonds and edges, and elements nodes)\n",
    "- Images\n",
    "- Voxel grids\n",
    "- The poem text string AI text bots produce if asked\n",
    "\n",
    "Let's now try and train the network to consider the molecules as grahps."
   ]
  },
  {
   "cell_type": "code",
   "execution_count": 50,
   "metadata": {},
   "outputs": [],
   "source": [
    "# general\n",
    "import os\n",
    "from multiprocessing import Pool\n",
    "import random\n",
    "\n",
    "# import data\n",
    "from lib import helper\n",
    "from sklearn.preprocessing import normalize\n",
    "df = helper.import_data()\n",
    "df = df[0:200]\n",
    "y = df['pKi']"
   ]
  },
  {
   "cell_type": "code",
   "execution_count": 51,
   "metadata": {},
   "outputs": [],
   "source": [
    "import deepchem as dc\n",
    "def smiles_2_GraphConv(smiles):\n",
    "    featurizer = dc.feat.MolGraphConvFeaturizer(use_edges=True)\n",
    "    return(featurizer(smiles))  \n",
    "\n",
    "# rdkit descriptors - 208 total\n",
    "with Pool(processes=os.cpu_count()) as p:\n",
    "    x = np.stack(p.map(smiles_2_GraphConv, df.smiles.values))"
   ]
  },
  {
   "cell_type": "code",
   "execution_count": 52,
   "metadata": {},
   "outputs": [],
   "source": [
    "from sklearn.model_selection import train_test_split\n",
    "x_train, x_test, y_train, y_test = train_test_split(\n",
    "    x,\n",
    "    y,\n",
    "    test_size=0.3,\n",
    "    random_state=123)"
   ]
  },
  {
   "cell_type": "code",
   "execution_count": 63,
   "metadata": {},
   "outputs": [],
   "source": [
    "import tensorflow as tf\n",
    "tf.keras."
   ]
  },
  {
   "cell_type": "code",
   "execution_count": null,
   "metadata": {},
   "outputs": [],
   "source": [
    "! python3 -m pip install molgraph"
   ]
  },
  {
   "cell_type": "code",
   "execution_count": 62,
   "metadata": {},
   "outputs": [
    {
     "ename": "AttributeError",
     "evalue": "module 'keras.layers' has no attribute 'GATConv'",
     "output_type": "error",
     "traceback": [
      "\u001b[0;31m---------------------------------------------------------------------------\u001b[0m",
      "\u001b[0;31mAttributeError\u001b[0m                            Traceback (most recent call last)",
      "Cell \u001b[0;32mIn[62], line 4\u001b[0m\n\u001b[1;32m      1\u001b[0m \u001b[39mimport\u001b[39;00m \u001b[39mkeras\u001b[39;00m\n\u001b[1;32m      2\u001b[0m gnn_model \u001b[39m=\u001b[39m keras\u001b[39m.\u001b[39mSequential([\n\u001b[1;32m      3\u001b[0m     keras\u001b[39m.\u001b[39mlayers\u001b[39m.\u001b[39mInput(shape \u001b[39m=\u001b[39m x_train\u001b[39m.\u001b[39mshape[\u001b[39m1\u001b[39m]),\n\u001b[0;32m----> 4\u001b[0m     keras\u001b[39m.\u001b[39;49mlayers\u001b[39m.\u001b[39;49mGATConv(name\u001b[39m=\u001b[39m\u001b[39m'\u001b[39m\u001b[39mgat_conv_1\u001b[39m\u001b[39m'\u001b[39m),\n\u001b[1;32m      5\u001b[0m     keras\u001b[39m.\u001b[39mlayers\u001b[39m.\u001b[39mGATConv(name\u001b[39m=\u001b[39m\u001b[39m'\u001b[39m\u001b[39mgat_conv_2\u001b[39m\u001b[39m'\u001b[39m),\n\u001b[1;32m      6\u001b[0m     keras\u001b[39m.\u001b[39mlayers\u001b[39m.\u001b[39mReadout(),\n\u001b[1;32m      7\u001b[0m     keras\u001b[39m.\u001b[39mlayers\u001b[39m.\u001b[39mDense(units\u001b[39m=\u001b[39m\u001b[39m1024\u001b[39m, activation\u001b[39m=\u001b[39m\u001b[39m'\u001b[39m\u001b[39mrelu\u001b[39m\u001b[39m'\u001b[39m),\n\u001b[1;32m      8\u001b[0m     keras\u001b[39m.\u001b[39mlayers\u001b[39m.\u001b[39mDense(units\u001b[39m=\u001b[39m\u001b[39m512\u001b[39m, activation\u001b[39m=\u001b[39m\u001b[39m'\u001b[39m\u001b[39mrelu\u001b[39m\u001b[39m'\u001b[39m),\n\u001b[1;32m      9\u001b[0m     keras\u001b[39m.\u001b[39mlayers\u001b[39m.\u001b[39mDense(units\u001b[39m=\u001b[39m\u001b[39m64\u001b[39m, activation\u001b[39m=\u001b[39m\u001b[39m'\u001b[39m\u001b[39mrelu\u001b[39m\u001b[39m'\u001b[39m),\n\u001b[1;32m     10\u001b[0m     keras\u001b[39m.\u001b[39mlayers\u001b[39m.\u001b[39mDense(units\u001b[39m=\u001b[39my_train\u001b[39m.\u001b[39mshape[\u001b[39m-\u001b[39m\u001b[39m1\u001b[39m], activation\u001b[39m=\u001b[39m\u001b[39m'\u001b[39m\u001b[39msoftmax\u001b[39m\u001b[39m'\u001b[39m) \u001b[39m# y_train.shape[-1]  is equivilent to num_classes\u001b[39;00m\n\u001b[1;32m     11\u001b[0m ])\n",
      "\u001b[0;31mAttributeError\u001b[0m: module 'keras.layers' has no attribute 'GATConv'"
     ]
    }
   ],
   "source": [
    "import keras\n",
    "tensorflow.ker\n",
    "gnn_model = keras.Sequential([\n",
    "    keras.layers.Input(shape = x_train.shape[1]),\n",
    "    keras.layers.\n",
    "    keras.layers.GATConv(name='gat_conv_1'),\n",
    "    keras.layers.GATConv(name='gat_conv_2'),\n",
    "    keras.layers.Readout(),\n",
    "    keras.layers.Dense(units=1024, activation='relu'),\n",
    "    keras.layers.Dense(units=512, activation='relu'),\n",
    "    keras.layers.Dense(units=64, activation='relu'),\n",
    "    keras.layers.Dense(units=y_train.shape[-1], activation='softmax') # y_train.shape[-1]  is equivilent to num_classes\n",
    "])"
   ]
  }
 ],
 "metadata": {
  "kernelspec": {
   "display_name": "Python 3",
   "language": "python",
   "name": "python3"
  },
  "language_info": {
   "codemirror_mode": {
    "name": "ipython",
    "version": 3
   },
   "file_extension": ".py",
   "mimetype": "text/x-python",
   "name": "python",
   "nbconvert_exporter": "python",
   "pygments_lexer": "ipython3",
   "version": "3.10.6"
  },
  "orig_nbformat": 4
 },
 "nbformat": 4,
 "nbformat_minor": 2
}
